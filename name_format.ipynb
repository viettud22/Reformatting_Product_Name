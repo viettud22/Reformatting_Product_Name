{
 "cells": [
  {
   "cell_type": "markdown",
   "metadata": {},
   "source": [
    "Format Product Name"
   ]
  },
  {
   "cell_type": "code",
   "execution_count": 179,
   "metadata": {},
   "outputs": [],
   "source": [
    "import pandas as pd\n",
    "# import warnings\n",
    "# warnings.filterwarnings(\"ignore\")"
   ]
  },
  {
   "cell_type": "code",
   "execution_count": 180,
   "metadata": {},
   "outputs": [],
   "source": [
    "#Create a list of brand name by combining from the two websties:\n",
    "#https://www.loblaws.ca/browse-by-brand?navid=flyout-L2-Browse-by-Brand\n",
    "Brand_Name = pd.read_csv(\"Brand.csv\", header=0)\n",
    "Brand_Name.dropna(inplace= True)\n",
    "Brand_Name['Brand'] = Brand_Name['Brand'] .str.lower()\n",
    "#print(Brand_Name.Brand.to_string())"
   ]
  },
  {
   "cell_type": "code",
   "execution_count": 181,
   "metadata": {},
   "outputs": [
    {
     "name": "stdout",
     "output_type": "stream",
     "text": [
      "original: \n",
      "$4.99 Heinz - Salad Cream English Dressing, 265 Millilitre  \n",
      "['$', '4.99', 'Heinz', 'Salad', 'Cream', 'English', 'Dressing', '265', 'Millilitre']\n",
      "$ 4.99 heinz salad cream english dressing 265 millilitre\n",
      "['heinz']\n",
      "heinz\n",
      "$ 4.99  salad cream english dressing 265 millilitre\n"
     ]
    },
    {
     "name": "stderr",
     "output_type": "stream",
     "text": [
      "[nltk_data] Downloading package stopwords to\n",
      "[nltk_data]     C:\\Users\\viett\\AppData\\Roaming\\nltk_data...\n",
      "[nltk_data]   Package stopwords is already up-to-date!\n"
     ]
    }
   ],
   "source": [
    "#clean stop words\n",
    "import nltk\n",
    "from nltk.corpus import stopwords\n",
    "nltk.download('stopwords')\n",
    "from nltk.tokenize import word_tokenize\n",
    "\n",
    "text = \"$4.99 Heinz - Salad Cream English Dressing, 265 Millilitre  \"\n",
    "print('original: ')\n",
    "print(text)\n",
    "text_tokens = word_tokenize(text)\n",
    "\n",
    "all_stopwords = stopwords.words('english')\n",
    "sw_list = [',','.','-','_','the','a','an']\n",
    "all_stopwords.extend(sw_list)\n",
    "\n",
    "tokens_without_sw = [word for word in text_tokens if not word in all_stopwords]\n",
    "print(tokens_without_sw)\n",
    "\n",
    "filtered_sentence = (\" \").join(tokens_without_sw)\n",
    "filtered_sentence = filtered_sentence.lower()\n",
    "print(filtered_sentence)\n",
    "\n",
    "brand = [i for i in Brand_Name.Brand if i in filtered_sentence]\n",
    "print(brand)\n",
    "print(brand[0])\n",
    "rest = filtered_sentence.replace(brand[0], '')\n",
    "print(rest)\n",
    "\n"
   ]
  },
  {
   "cell_type": "code",
   "execution_count": 182,
   "metadata": {},
   "outputs": [
    {
     "name": "stdout",
     "output_type": "stream",
     "text": [
      "['4.99']\n",
      "[]\n"
     ]
    }
   ],
   "source": [
    "#Extract price and quantity\n",
    "import spacy\n",
    "\n",
    "nlp = spacy.load('en_core_web_sm')\n",
    "# \"A good tomato sauce 100 gram from Heinz company\",\n",
    "# doc = nlp (\"Shredded Mozzarella 320 g\")\n",
    "doc = nlp(rest)\n",
    "\n",
    "money = [ entity.text for entity in doc.ents if entity.label_ == \"MONEY\"]\n",
    "print(money) \n",
    "quantity = [ entity.text for entity in doc.ents if entity.label_ == \"QUANTITY\"]\n",
    "print(quantity)\n"
   ]
  },
  {
   "cell_type": "code",
   "execution_count": 220,
   "metadata": {},
   "outputs": [
    {
     "name": "stdout",
     "output_type": "stream",
     "text": [
      "$3.49 dollar Ranch\n",
      "475 kilogram\n"
     ]
    }
   ],
   "source": [
    "doc = nlp(\" $3.49 dollar Ranch Dressing 475 kilogram \") \n",
    "# for token in doc:\n",
    "#     print(token.text, token.pos_,token.dep_)\n",
    "# money = [ entity.text for entity in doc.ents if entity.label_ == \"MONEY\"]\n",
    "# print(money) \n",
    "\n",
    "for noun in doc.noun_chunks:\n",
    "    print(noun.text)\n",
    "# for entity in doc.ents:\n",
    "#     print(f\"{entity.text} ({entity.label_})\")"
   ]
  },
  {
   "cell_type": "code",
   "execution_count": 228,
   "metadata": {},
   "outputs": [
    {
     "name": "stdout",
     "output_type": "stream",
     "text": [
      "$3.49ea\n"
     ]
    }
   ],
   "source": [
    "import textacy\n",
    "doc = nlp(\" dollar ea Ranch Dressing 475ml $3.49ea\") \n",
    "\n",
    "price_pattern =  [{\"LEMMA\":\"$\"},{\"POS\":\"NUM\"}]\n",
    "phrase = textacy.extract.matches.token_matches(doc, price_pattern)   \n",
    "for phrase in phrase:\n",
    "    print(phrase) \n",
    "\n"
   ]
  }
 ],
 "metadata": {
  "interpreter": {
   "hash": "d1441b51fdf492e5db1892ba115eef171e8570014729164a7ad5060ac47d614c"
  },
  "kernelspec": {
   "display_name": "Python 3.9.7 ('base')",
   "language": "python",
   "name": "python3"
  },
  "language_info": {
   "codemirror_mode": {
    "name": "ipython",
    "version": 3
   },
   "file_extension": ".py",
   "mimetype": "text/x-python",
   "name": "python",
   "nbconvert_exporter": "python",
   "pygments_lexer": "ipython3",
   "version": "3.9.7"
  },
  "orig_nbformat": 4
 },
 "nbformat": 4,
 "nbformat_minor": 2
}
