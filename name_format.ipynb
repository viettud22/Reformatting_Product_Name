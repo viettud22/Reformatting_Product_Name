{
 "cells": [
  {
   "cell_type": "markdown",
   "metadata": {},
   "source": [
    "Format Product Name"
   ]
  },
  {
   "cell_type": "code",
   "execution_count": 39,
   "metadata": {},
   "outputs": [],
   "source": [
    "import pandas as pd"
   ]
  },
  {
   "cell_type": "code",
   "execution_count": 40,
   "metadata": {},
   "outputs": [],
   "source": [
    "#Create a list of brand name by combining from the webstie:\n",
    "#https://www.loblaws.ca/browse-by-brand?navid=flyout-L2-Browse-by-Brand\n",
    "Brand_Name = pd.read_csv(\"Brand.csv\", header=0)\n",
    "Brand_Name.dropna(inplace= True)\n",
    "Brand_Name['Brand'] = Brand_Name['Brand'].str.lower()"
   ]
  },
  {
   "cell_type": "code",
   "execution_count": 41,
   "metadata": {},
   "outputs": [],
   "source": [
    "#test cases\n",
    "#\"Heinz - Salad Cream English Dressing, 265 Millilitre $2.95\"\n",
    "#\"A tomato sauce 100 gram from Heinz $3.45\"\n",
    "#\"PRESIDENT'S CHOICE Ranch Dressing 475 ml $3.49ea\"\n",
    "text = \"President's Choice Rocky Road Ice Cream 946 ml $3.99ea\""
   ]
  },
  {
   "cell_type": "code",
   "execution_count": 42,
   "metadata": {},
   "outputs": [
    {
     "name": "stdout",
     "output_type": "stream",
     "text": [
      "[\"president's choice\"]\n"
     ]
    }
   ],
   "source": [
    "#extract Brand name\n",
    "brand = [i for i in Brand_Name.Brand if i in text.lower()]\n",
    "print(brand)\n",
    "\n",
    "if len(brand) > 0:\n",
    "    text = text.lower().replace(brand[0], '')"
   ]
  },
  {
   "cell_type": "code",
   "execution_count": 43,
   "metadata": {},
   "outputs": [
    {
     "name": "stdout",
     "output_type": "stream",
     "text": [
      "rocky road ice cream 946 ml $ 3.99ea\n"
     ]
    },
    {
     "name": "stderr",
     "output_type": "stream",
     "text": [
      "[nltk_data] Downloading package stopwords to\n",
      "[nltk_data]     C:\\Users\\viett\\AppData\\Roaming\\nltk_data...\n",
      "[nltk_data]   Package stopwords is already up-to-date!\n"
     ]
    }
   ],
   "source": [
    "#clean stop words\n",
    "import nltk\n",
    "from nltk.corpus import stopwords\n",
    "nltk.download('stopwords')\n",
    "from nltk.tokenize import word_tokenize\n",
    "\n",
    "text_tokens = word_tokenize(text)\n",
    "\n",
    "all_stopwords = stopwords.words('english')\n",
    "sw_list = [',','.','-','_','the','a','an']\n",
    "all_stopwords.extend(sw_list)\n",
    "\n",
    "tokens_without_sw = [word for word in text_tokens if not word in all_stopwords]\n",
    "\n",
    "filtered_sentence = (\" \").join(tokens_without_sw)\n",
    "filtered_sentence = filtered_sentence.lower()\n",
    "print(filtered_sentence)\n"
   ]
  },
  {
   "cell_type": "code",
   "execution_count": 44,
   "metadata": {},
   "outputs": [
    {
     "name": "stdout",
     "output_type": "stream",
     "text": [
      "$ 3.99ea\n"
     ]
    }
   ],
   "source": [
    "#Extracting price of the product \n",
    "import spacy\n",
    "nlp = spacy.load('en_core_web_sm')\n",
    "doc = nlp(filtered_sentence)\n",
    "\n",
    "import textacy\n",
    "price_pattern =  [{\"LEMMA\":\"$\"},{\"POS\":\"NUM\"}]\n",
    "phrase = textacy.extract.matches.token_matches(doc, price_pattern)   \n",
    "for phrase in phrase:\n",
    "    price = phrase \n",
    "    print(price)\n",
    "    filtered_sentence = filtered_sentence.replace( str(price), '')\n"
   ]
  },
  {
   "cell_type": "code",
   "execution_count": 45,
   "metadata": {},
   "outputs": [
    {
     "name": "stdout",
     "output_type": "stream",
     "text": [
      "['946 ml']\n"
     ]
    }
   ],
   "source": [
    "# Extract quantity (feature)\n",
    "doc = nlp(filtered_sentence)\n",
    "quantity = [ entity.text for entity in doc.ents if entity.label_ == \"QUANTITY\" or entity.label_ == \"CARDINAL\"]\n",
    "print(quantity)\n",
    "\n",
    "if len(quantity)>0:\n",
    "    filtered_sentence = filtered_sentence.replace( str(quantity[0]), '')\n"
   ]
  },
  {
   "cell_type": "code",
   "execution_count": 48,
   "metadata": {},
   "outputs": [
    {
     "name": "stdout",
     "output_type": "stream",
     "text": [
      "Original:   rocky road ice cream 946 ml $3.99ea\n",
      "[\"president's choice\"]\n",
      "rocky road ice cream  \n",
      "['946 ml']\n",
      "$ 3.99ea\n",
      "Length:  22\n"
     ]
    }
   ],
   "source": [
    "print(\"Original: \", text)\n",
    "print(brand)\n",
    "print(filtered_sentence)\n",
    "print(quantity)\n",
    "print(price)\n",
    "print(\"Length: \",len(filtered_sentence))"
   ]
  }
 ],
 "metadata": {
  "interpreter": {
   "hash": "d1441b51fdf492e5db1892ba115eef171e8570014729164a7ad5060ac47d614c"
  },
  "kernelspec": {
   "display_name": "Python 3.9.7 ('base')",
   "language": "python",
   "name": "python3"
  },
  "language_info": {
   "codemirror_mode": {
    "name": "ipython",
    "version": 3
   },
   "file_extension": ".py",
   "mimetype": "text/x-python",
   "name": "python",
   "nbconvert_exporter": "python",
   "pygments_lexer": "ipython3",
   "version": "3.9.7"
  },
  "orig_nbformat": 4
 },
 "nbformat": 4,
 "nbformat_minor": 2
}
